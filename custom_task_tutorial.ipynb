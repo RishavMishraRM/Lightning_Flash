{
 "cells": [
  {
   "cell_type": "markdown",
   "metadata": {},
   "source": [
    "# Tutorial: Creating a Custom Task"
   ]
  },
  {
   "cell_type": "markdown",
   "metadata": {},
   "source": [
    "In this tutorial we will go over the process of creating a custom task, along with a custom data module."
   ]
  },
  {
   "cell_type": "code",
   "execution_count": null,
   "metadata": {},
   "outputs": [],
   "source": [
    "%%capture\n",
    "! pip install git+https://github.com/PyTorchLightning/lightning-flash.git\n",
    "! pip install git+https://github.com/PyTorchLightning/pytorch-lightning.git"
   ]
  },
  {
   "cell_type": "code",
   "execution_count": null,
   "metadata": {},
   "outputs": [],
   "source": [
    "from typing import Any, List, Tuple, Dict\n",
    "\n",
    "import numpy as np\n",
    "import torch\n",
    "from pytorch_lightning import seed_everything\n",
    "from sklearn import datasets\n",
    "from sklearn.model_selection import train_test_split\n",
    "from torch import nn, Tensor\n",
    "\n",
    "import flash\n",
    "from flash.core.data.auto_dataset import AutoDataset\n",
    "from flash.core.data.data_source import DataSource\n",
    "from flash.core.data.process import Preprocess\n",
    "\n",
    "ND = np.ndarray"
   ]
  },
  {
   "cell_type": "code",
   "execution_count": null,
   "metadata": {},
   "outputs": [],
   "source": [
    "seed_everything(42)"
   ]
  },
  {
   "cell_type": "markdown",
   "metadata": {},
   "source": [
    "## The Task\n",
    "\n",
    "Here we create a basic linear regression task by subclassing `flash.Task`. For the majority of tasks, you will likely only need to override the `__init__` and `forward` methods of task."
   ]
  },
  {
   "cell_type": "code",
   "execution_count": null,
   "metadata": {},
   "outputs": [],
   "source": [
    "class CustomPostprocess(Postprocess):\n",
    "\n",
    "    THRESHOLD = 14.72\n",
    "\n",
    "    def predict_per_sample_transform(self, pred: Any) -> Any:\n",
    "        if pred > self.THRESHOLD:\n",
    "\n",
    "            def send_slack_message(pred):\n",
    "                print(f\"This prediction: {pred} is above the threshold: {self.THRESHOLD}\")\n",
    "\n",
    "            send_slack_message(pred)\n",
    "        return pred"
   ]
  },
  {
   "cell_type": "code",
   "execution_count": null,
   "metadata": {},
   "outputs": [],
   "source": [
    "class LinearRegression(flash.Task):\n",
    "\n",
    "    def __init__(self, num_inputs, learning_rate=0.001, metrics=None):\n",
    "        # what kind of model do we want?\n",
    "        model = nn.Linear(num_inputs, 1)\n",
    "\n",
    "        # what loss function do we want?\n",
    "        loss_fn = torch.nn.functional.mse_loss\n",
    "\n",
    "        # what optimizer to do we want?\n",
    "        optimizer = torch.optim.SGD\n",
    "\n",
    "        super().__init__(\n",
    "            model=model,\n",
    "            loss_fn=loss_fn,\n",
    "            optimizer=optimizer,\n",
    "            metrics=metrics,\n",
    "            learning_rate=learning_rate,\n",
    "            postprocess=CustomPostprocess(),\n",
    "        )\n",
    "\n",
    "    def forward(self, x):\n",
    "        # we don't actually need to override this method for this example\n",
    "        return self.model(x)"
   ]
  },
  {
   "cell_type": "markdown",
   "metadata": {},
   "source": [
    "### Where is the training step?\n",
    "\n",
    "Most models can be trained simply by passing the output of `forward` to the supplied `loss_fn`, and then passing the resulting loss to the supplied `optimizer`. If you need a more custom configuration, you can override `step` (which is called for training, validation, and testing) or override `training_step`, `validation_step`, and `test_step` individually. These methods behave identically to PyTorch Lightning's [methods](https://pytorch-lightning.readthedocs.io/en/latest/lightning_module.html#methods).\n"
   ]
  },
  {
   "cell_type": "markdown",
   "metadata": {},
   "source": [
    "## The Data\n",
    "\n",
    "For a task you will likely need a specific way of loading data. \n",
    "First, you will need to implement a :class:`~flash.core.data.process.Preprocess` containing your processing logic.\n",
    "Secondly, you will need to implement a `flash.core.data.data_module.DataModule` containing the instantiation logic.\n",
    "\n",
    "We will be using the scikit-learn [Diabetes dataset](https://scikit-learn.org/stable/datasets/toy_dataset.html#diabetes-dataset)."
   ]
  },
  {
   "cell_type": "code",
   "execution_count": null,
   "metadata": {},
   "outputs": [],
   "source": [
    "class NumpyDataSource(DataSource):\n",
    "\n",
    "    def load_data(self, data: Tuple[ND, ND], dataset: AutoDataset) -> List[Tuple[ND, float]]:\n",
    "        if self.training:\n",
    "            dataset.num_inputs = data[0].shape[1]\n",
    "        return [(x, y) for x, y in zip(*data)]\n",
    "\n",
    "    def predict_load_data(self, data: ND) -> ND:\n",
    "        return data"
   ]
  },
  {
   "cell_type": "code",
   "execution_count": null,
   "metadata": {},
   "outputs": [],
   "source": [
    "class NumpyPreprocess(Preprocess):\n",
    "\n",
    "    def __init__(self):\n",
    "        super().__init__(data_sources={\"numpy\": NumpyDataSource()}, default_data_source=\"numpy\")\n",
    "\n",
    "    def to_tensor_transform(self, sample: Any) -> Tuple[Tensor, Tensor]:\n",
    "        x, y = sample\n",
    "        x = torch.from_numpy(x).float()\n",
    "        y = torch.tensor(y, dtype=torch.float)\n",
    "        return x, y\n",
    "\n",
    "    def predict_to_tensor_transform(self, sample: ND) -> ND:\n",
    "        return torch.from_numpy(sample).float()\n",
    "\n",
    "    def get_state_dict(self) -> Dict[str, Any]:\n",
    "        return {}\n",
    "\n",
    "    @classmethod\n",
    "    def load_state_dict(cls, state_dict: Dict[str, Any], strict: bool):\n",
    "        return cls()"
   ]
  },
  {
   "cell_type": "code",
   "execution_count": null,
   "metadata": {},
   "outputs": [],
   "source": [
    "class SklearnDataModule(flash.DataModule):\n",
    "\n",
    "    @classmethod\n",
    "    def from_dataset(cls, x: np.ndarray, y: np.ndarray, preprocess: Preprocess, batch_size: int = 64, num_workers: int = 0):\n",
    "\n",
    "        preprocess = preprocess\n",
    "\n",
    "        x_train, x_test, y_train, y_test = train_test_split(x, y, test_size=.20, random_state=0)\n",
    "\n",
    "        dm = cls.from_data_source(\n",
    "            \"numpy\",\n",
    "            train_data=(x_train, y_train),\n",
    "            test_data=(x_test, y_test),\n",
    "            preprocess=preprocess,\n",
    "            batch_size=batch_size,\n",
    "            num_workers=num_workers\n",
    "        )\n",
    "        dm.num_inputs = dm._train_ds.num_inputs\n",
    "        return dm"
   ]
  },
  {
   "cell_type": "code",
   "execution_count": null,
   "metadata": {},
   "outputs": [],
   "source": [
    "x, y = datasets.load_diabetes(return_X_y=True)\n",
    "datamodule = SklearnDataModule.from_dataset(x, y, NumpyPreprocess())"
   ]
  },
  {
   "cell_type": "code",
   "execution_count": null,
   "metadata": {},
   "outputs": [],
   "source": [
    "model = LinearRegression(num_inputs=datamodule.num_inputs)"
   ]
  },
  {
   "cell_type": "markdown",
   "metadata": {},
   "source": [
    "## Fit"
   ]
  },
  {
   "cell_type": "markdown",
   "metadata": {},
   "source": [
    "You will notice that now the `Preprocess` and `Postprocess` objects are defined, it is possible to make an inference directly from `model.predict`."
   ]
  },
  {
   "cell_type": "code",
   "execution_count": null,
   "metadata": {},
   "outputs": [],
   "source": [
    "trainer = flash.Trainer(max_epochs=10, progress_bar_refresh_rate=20)"
   ]
  },
  {
   "cell_type": "code",
   "execution_count": null,
   "metadata": {},
   "outputs": [],
   "source": [
    "trainer.fit(model, datamodule=datamodule)"
   ]
  },
  {
   "cell_type": "code",
   "execution_count": null,
   "metadata": {},
   "outputs": [],
   "source": [
    "predict_data = np.array([[0.0199, 0.0507, 0.1048, 0.0701, -0.0360, -0.0267, -0.0250, -0.0026, 0.0037, 0.0403],\n",
    "                         [-0.0128, -0.0446, 0.0606, 0.0529, 0.0480, 0.0294, -0.0176, 0.0343, 0.0702, 0.0072],\n",
    "                         [0.0381, 0.0507, 0.0089, 0.0425, -0.0428, -0.0210, -0.0397, -0.0026, -0.0181, 0.0072],\n",
    "                         [-0.0128, -0.0446, -0.0235, -0.0401, -0.0167, 0.0046, -0.0176, -0.0026, -0.0385, -0.0384],\n",
    "                         [-0.0237, -0.0446, 0.0455, 0.0907, -0.0181, -0.0354, 0.0707, -0.0395, -0.0345, -0.0094]])"
   ]
  },
  {
   "cell_type": "code",
   "execution_count": null,
   "metadata": {},
   "outputs": [],
   "source": [
    "predictions = model.predict(predict_data)\n",
    "# out: This prediction: tensor([14.7288]) is above the threshold: 14.72"
   ]
  },
  {
   "cell_type": "code",
   "execution_count": null,
   "metadata": {},
   "outputs": [],
   "source": [
    "print(predictions)\n",
    "# out: [tensor([14.7190]), tensor([14.7100]), tensor([14.7288]), tensor([14.6685]), tensor([14.6687])]"
   ]
  },
  {
   "cell_type": "markdown",
   "metadata": {},
   "source": [
    "Like any Flash Task, we can fit our model using the `flash.Trainer` by supplying the task itself, and the associated data:"
   ]
  },
  {
   "cell_type": "markdown",
   "metadata": {},
   "source": [
    "With a trained model we can now perform inference. Here we will use a few examples from the test set of our data:"
   ]
  },
  {
   "cell_type": "markdown",
   "metadata": {},
   "source": [
    "Because of our custom data pipeline's `after_uncollate` method, we will get a nicely formatted output like the following:\n",
    "```\n",
    "[['disease progression: 14.84'],\n",
    " ['disease progression: 14.86'],\n",
    " ['disease progression: 14.78'],\n",
    " ['disease progression: 14.73'],\n",
    " ['disease progression: 14.71']]\n",
    "```"
   ]
  }
 ],
 "metadata": {
  "kernelspec": {
   "display_name": "Python 3",
   "language": "python",
   "name": "python3"
  },
  "language_info": {
   "codemirror_mode": {
    "name": "ipython",
    "version": 3
   },
   "file_extension": ".py",
   "mimetype": "text/x-python",
   "name": "python",
   "nbconvert_exporter": "python",
   "pygments_lexer": "ipython3",
   "version": "3.8.10"
  },
  "varInspector": {
   "cols": {
    "lenName": 16,
    "lenType": 16,
    "lenVar": 40
   },
   "kernels_config": {
    "python": {
     "delete_cmd_postfix": "",
     "delete_cmd_prefix": "del ",
     "library": "var_list.py",
     "varRefreshCmd": "print(var_dic_list())"
    },
    "r": {
     "delete_cmd_postfix": ") ",
     "delete_cmd_prefix": "rm(",
     "library": "var_list.r",
     "varRefreshCmd": "cat(var_dic_list()) "
    }
   },
   "types_to_exclude": [
    "module",
    "function",
    "builtin_function_or_method",
    "instance",
    "_Feature"
   ],
   "window_display": false
  }
 },
 "nbformat": 4,
 "nbformat_minor": 4
}
