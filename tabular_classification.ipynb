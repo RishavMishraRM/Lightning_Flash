{
 "cells": [
  {
   "cell_type": "markdown",
   "id": "sorted-dancing",
   "metadata": {},
   "source": [
    "# Training"
   ]
  },
  {
   "cell_type": "code",
   "execution_count": null,
   "id": "caring-appreciation",
   "metadata": {},
   "outputs": [],
   "source": [
    "# %%capture\n",
    "! pip install git+https://github.com/PyTorchLightning/lightning-flash.git"
   ]
  },
  {
   "cell_type": "code",
   "execution_count": null,
   "id": "sexual-diabetes",
   "metadata": {},
   "outputs": [],
   "source": [
    "from torchmetrics.classification import Accuracy, Precision, Recall\n",
    "\n",
    "import flash\n",
    "from flash.core.data.utils import download_data\n",
    "from flash.tabular import TabularClassifier, TabularData"
   ]
  },
  {
   "cell_type": "markdown",
   "id": "boxed-harvest",
   "metadata": {},
   "source": [
    "###  1. Download the data\n",
    "The data are downloaded from a URL, and save in a 'data' directory."
   ]
  },
  {
   "cell_type": "code",
   "execution_count": null,
   "id": "backed-render",
   "metadata": {},
   "outputs": [],
   "source": [
    "download_data(\"https://pl-flash-data.s3.amazonaws.com/titanic.zip\", 'data/')"
   ]
  },
  {
   "cell_type": "markdown",
   "id": "young-arthritis",
   "metadata": {},
   "source": [
    "###  2. Load the data\n",
    "Flash Tasks have built-in DataModules that you can use to organize your data. Pass in a train, validation and test folders and Flash will take care of the rest.\n",
    "\n",
    "Creates a TabularData relies on [Pandas DataFrame](https://pandas.pydata.org/pandas-docs/stable/reference/api/pandas.DataFrame.html). "
   ]
  },
  {
   "cell_type": "code",
   "execution_count": null,
   "id": "ultimate-bunny",
   "metadata": {},
   "outputs": [],
   "source": [
    "datamodule = TabularData.from_csv(\n",
    "    [\"Sex\", \"Age\", \"SibSp\", \"Parch\", \"Ticket\", \"Cabin\", \"Embarked\"],\n",
    "    [\"Fare\"],\n",
    "    target_fields=\"Survived\",\n",
    "    train_file=\"./data/titanic/titanic.csv\",\n",
    "    test_file=\"./data/titanic/test.csv\",\n",
    "    val_split=0.25,\n",
    ")\n"
   ]
  },
  {
   "cell_type": "markdown",
   "id": "brutal-hypothesis",
   "metadata": {},
   "source": [
    "###  3. Build the model\n",
    "\n",
    "Note: Categorical columns will be mapped to the embedding space. Embedding space is set of tensors to be trained associated to each categorical column. "
   ]
  },
  {
   "cell_type": "code",
   "execution_count": null,
   "id": "practical-perry",
   "metadata": {},
   "outputs": [],
   "source": [
    "model = TabularClassifier.from_data(datamodule, metrics=[Accuracy(), Precision(), Recall()])"
   ]
  },
  {
   "cell_type": "markdown",
   "id": "dietary-bowling",
   "metadata": {},
   "source": [
    "###  4. Create the trainer. Run 10 times on data"
   ]
  },
  {
   "cell_type": "code",
   "execution_count": null,
   "id": "integral-interface",
   "metadata": {},
   "outputs": [],
   "source": [
    "trainer = flash.Trainer(max_epochs=10)"
   ]
  },
  {
   "cell_type": "markdown",
   "id": "liable-remains",
   "metadata": {},
   "source": [
    "###  5. Train the model"
   ]
  },
  {
   "cell_type": "code",
   "execution_count": null,
   "id": "controversial-newcastle",
   "metadata": {},
   "outputs": [],
   "source": [
    "trainer.fit(model, datamodule=datamodule)"
   ]
  },
  {
   "cell_type": "markdown",
   "id": "fluid-franchise",
   "metadata": {},
   "source": [
    "###  6. Test model"
   ]
  },
  {
   "cell_type": "code",
   "execution_count": null,
   "id": "therapeutic-bidder",
   "metadata": {},
   "outputs": [],
   "source": [
    "trainer.test()"
   ]
  },
  {
   "cell_type": "markdown",
   "id": "genuine-pilot",
   "metadata": {},
   "source": [
    "###  7. Save it!"
   ]
  },
  {
   "cell_type": "code",
   "execution_count": null,
   "id": "alien-stand",
   "metadata": {},
   "outputs": [],
   "source": [
    "trainer.save_checkpoint(\"tabular_classification_model.pt\")"
   ]
  },
  {
   "cell_type": "markdown",
   "id": "conventional-travel",
   "metadata": {},
   "source": [
    "# Predicting"
   ]
  },
  {
   "cell_type": "markdown",
   "id": "coated-insulation",
   "metadata": {},
   "source": [
    "###  8. Load the model from a checkpoint\n",
    "\n",
    "`TabularClassifier.load_from_checkpoint` supports both url or local_path to a checkpoint. If provided with an url, the checkpoint will first be downloaded and laoded to re-create the model. "
   ]
  },
  {
   "cell_type": "code",
   "execution_count": null,
   "id": "alpine-drilling",
   "metadata": {},
   "outputs": [],
   "source": [
    "model = TabularClassifier.load_from_checkpoint(\n",
    "    \"https://flash-weights.s3.amazonaws.com/tabular_classification_model.pt\")"
   ]
  },
  {
   "cell_type": "markdown",
   "id": "painted-assistant",
   "metadata": {},
   "source": [
    "###  9. Generate predictions from a sheet file! Who would survive?\n",
    "\n",
    "`TabularClassifier.predict` support both DataFrame and path to `.csv` file."
   ]
  },
  {
   "cell_type": "code",
   "execution_count": null,
   "id": "located-cable",
   "metadata": {},
   "outputs": [],
   "source": [
    "predictions = model.predict(\"data/titanic/titanic.csv\")"
   ]
  },
  {
   "cell_type": "code",
   "execution_count": null,
   "id": "realistic-infection",
   "metadata": {},
   "outputs": [],
   "source": [
    "print(predictions)"
   ]
  }
 ],
 "metadata": {
  "kernelspec": {
   "display_name": "Python 3",
   "language": "python",
   "name": "python3"
  },
  "language_info": {
   "codemirror_mode": {
    "name": "ipython",
    "version": 3
   },
   "file_extension": ".py",
   "mimetype": "text/x-python",
   "name": "python",
   "nbconvert_exporter": "python",
   "pygments_lexer": "ipython3",
   "version": "3.8.10"
  },
  "varInspector": {
   "cols": {
    "lenName": 16,
    "lenType": 16,
    "lenVar": 40
   },
   "kernels_config": {
    "python": {
     "delete_cmd_postfix": "",
     "delete_cmd_prefix": "del ",
     "library": "var_list.py",
     "varRefreshCmd": "print(var_dic_list())"
    },
    "r": {
     "delete_cmd_postfix": ") ",
     "delete_cmd_prefix": "rm(",
     "library": "var_list.r",
     "varRefreshCmd": "cat(var_dic_list()) "
    }
   },
   "types_to_exclude": [
    "module",
    "function",
    "builtin_function_or_method",
    "instance",
    "_Feature"
   ],
   "window_display": false
  }
 },
 "nbformat": 4,
 "nbformat_minor": 5
}
